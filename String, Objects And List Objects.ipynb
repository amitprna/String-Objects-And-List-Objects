{
 "cells": [
  {
   "cell_type": "markdown",
   "id": "304b706e",
   "metadata": {},
   "source": [
    "# String, Objects And List Objects"
   ]
  },
  {
   "cell_type": "code",
   "execution_count": 12,
   "id": "1a41ecf8",
   "metadata": {},
   "outputs": [
    {
     "name": "stdout",
     "output_type": "stream",
     "text": [
      "*\n",
      "**\n",
      "***\n",
      "****\n",
      "*****\n",
      "***\n",
      "**\n",
      "*\n",
      "\n"
     ]
    }
   ],
   "source": [
    "for i in range(5):\n",
    "    print('*'*(i+1))\n",
    "    if i==4:\n",
    "        for i in range(4):\n",
    "            print('*'*(3-i))"
   ]
  },
  {
   "cell_type": "code",
   "execution_count": 14,
   "id": "8296ea4e",
   "metadata": {},
   "outputs": [
    {
     "name": "stdout",
     "output_type": "stream",
     "text": [
      "Enter the word you want to reverseineuron\n",
      "norueni\n"
     ]
    }
   ],
   "source": [
    "word = input(\"Enter the word you want to reverse\")\n",
    "print(word[::-1])"
   ]
  },
  {
   "cell_type": "code",
   "execution_count": null,
   "id": "69491f9d",
   "metadata": {},
   "outputs": [],
   "source": []
  }
 ],
 "metadata": {
  "kernelspec": {
   "display_name": "Python 3",
   "language": "python",
   "name": "python3"
  },
  "language_info": {
   "codemirror_mode": {
    "name": "ipython",
    "version": 3
   },
   "file_extension": ".py",
   "mimetype": "text/x-python",
   "name": "python",
   "nbconvert_exporter": "python",
   "pygments_lexer": "ipython3",
   "version": "3.8.8"
  }
 },
 "nbformat": 4,
 "nbformat_minor": 5
}
